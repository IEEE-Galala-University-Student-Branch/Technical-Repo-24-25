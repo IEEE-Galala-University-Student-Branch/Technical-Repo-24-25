{
 "cells": [
  {
   "cell_type": "code",
   "execution_count": 12,
   "metadata": {},
   "outputs": [],
   "source": [
    "#!pip install numpy"
   ]
  },
  {
   "cell_type": "code",
   "execution_count": 1,
   "metadata": {},
   "outputs": [],
   "source": [
    "import numpy as np"
   ]
  },
  {
   "cell_type": "code",
   "execution_count": 2,
   "metadata": {},
   "outputs": [],
   "source": [
    "arr = np.array([1, 2, 3, 4, 5])  # 1D array\n",
    "arr2d = np.array([[1, 2, 3], [4, 5, 6]])  # 2D array\n",
    "\n",
    "my_list = [1, 2, 3, 4, 5]\n",
    "\n",
    "np_array = np.array(my_list)"
   ]
  },
  {
   "cell_type": "code",
   "execution_count": 3,
   "metadata": {},
   "outputs": [
    {
     "data": {
      "text/plain": [
       "array([0, 2, 4, 6, 8])"
      ]
     },
     "execution_count": 3,
     "metadata": {},
     "output_type": "execute_result"
    }
   ],
   "source": [
    "np.zeros((3, 3))   # 3x3 matrix of zeros\n",
    "np.ones((2, 2))    # 2x2 matrix of ones\n",
    "np.full((2, 2), 9) # 2x2 matrix filled with 9\n",
    "np.eye(3)          # 3x3 identity matrix\n",
    "np.random.rand(3, 3) # 3x3 matrix with random values from 0 to 1\n",
    "np.random.randint(0, 10, (2, 2)) # Random integers between 0 and 10\n",
    "np.linspace(0, 10, 5) # 5 evenly spaced numbers from 0 to 10\n",
    "np.arange(0, 10, 2) # Similar to range(), but returns an array"
   ]
  },
  {
   "cell_type": "code",
   "execution_count": 4,
   "metadata": {},
   "outputs": [
    {
     "name": "stdout",
     "output_type": "stream",
     "text": [
      "Shape: (2, 3)\n",
      "Number of elements: 6\n",
      "Data type: int32\n",
      "Dimensions: 2\n"
     ]
    }
   ],
   "source": [
    "arr = np.array([[1, 2, 3], [4, 5, 6]])\n",
    "print('Shape:',arr.shape)   # (2, 3) → 2 rows, 3 columns\n",
    "print('Number of elements:',arr.size )   # 6 → Total number of elements\n",
    "print('Data type:',arr.dtype)  # dtype('int32') → Data type\n",
    "print('Dimensions:',arr.ndim ) # 2 → Number of dimensions\n"
   ]
  },
  {
   "cell_type": "code",
   "execution_count": 5,
   "metadata": {},
   "outputs": [
    {
     "name": "stdout",
     "output_type": "stream",
     "text": [
      "20\n",
      "[20 30 40]\n",
      "[10 20 30]\n",
      "[50 40 30 20 10]\n"
     ]
    }
   ],
   "source": [
    "arr = np.array([10, 20, 30, 40, 50])\n",
    "print(arr[1])     # 20 (indexing)\n",
    "print(arr[1:4])   # [20 30 40] (slicing)\n",
    "print(arr[:3])    # [10 20 30] (first 3 elements)\n",
    "print(arr[::-1])  # [50 40 30 20 10] (reverse order)"
   ]
  },
  {
   "cell_type": "code",
   "execution_count": 6,
   "metadata": {},
   "outputs": [
    {
     "name": "stdout",
     "output_type": "stream",
     "text": [
      "6\n",
      "[4 5 6]\n",
      "[2 5 8]\n"
     ]
    }
   ],
   "source": [
    "arr2d = np.array([[1, 2, 3], [4, 5, 6], [7, 8, 9]])\n",
    "print(arr2d[1, 2])  # 6 → Access element at row 1, column 2\n",
    "print(arr2d[1, :])  # [4 5 6] → All elements in row 1\n",
    "print(arr2d[:, 1])  # [2 5 8] → All elements in column 1"
   ]
  },
  {
   "cell_type": "code",
   "execution_count": 7,
   "metadata": {},
   "outputs": [
    {
     "name": "stdout",
     "output_type": "stream",
     "text": [
      "[5 7 9]\n",
      "[-3 -3 -3]\n",
      "[ 4 10 18]\n",
      "[0.25 0.4  0.5 ]\n",
      "[1 4 9]\n"
     ]
    }
   ],
   "source": [
    "arr1 = np.array([1, 2, 3])\n",
    "arr2 = np.array([4, 5, 6])\n",
    "\n",
    "print(arr1 + arr2)  # [5 7 9]\n",
    "print(arr1 - arr2)  # [-3 -3 -3]\n",
    "print(arr1 * arr2)  # [4 10 18]\n",
    "print(arr1 / arr2)  # [0.25 0.4 0.5]\n",
    "print(arr1 ** 2)    # [1 4 9] (Element-wise squaring)"
   ]
  },
  {
   "cell_type": "code",
   "execution_count": 8,
   "metadata": {},
   "outputs": [
    {
     "name": "stdout",
     "output_type": "stream",
     "text": [
      "[1.         1.41421356 1.73205081 2.        ]\n",
      "[ 2.71828183  7.3890561  20.08553692 54.59815003]\n",
      "[0.         0.69314718 1.09861229 1.38629436]\n",
      "[ 0.84147098  0.90929743  0.14112001 -0.7568025 ]\n",
      "[ 0.54030231 -0.41614684 -0.9899925  -0.65364362]\n",
      "10\n",
      "2.5\n",
      "1.118033988749895\n",
      "4\n",
      "1\n"
     ]
    }
   ],
   "source": [
    "arr = np.array([1, 2, 3, 4])\n",
    "print(np.sqrt(arr))  # Square root\n",
    "print(np.exp(arr))   # Exponential\n",
    "print(np.log(arr))   # Logarithm\n",
    "print(np.sin(arr))   # Sine function\n",
    "print(np.cos(arr))   # Cosine function\n",
    "print(np.sum(arr))   # Sum of elements\n",
    "print(np.mean(arr))  # Mean\n",
    "print(np.std(arr))   # Standard deviation\n",
    "print(np.max(arr))   # Maximum\n",
    "print(np.min(arr))   # Minimum\n"
   ]
  },
  {
   "cell_type": "code",
   "execution_count": 9,
   "metadata": {},
   "outputs": [
    {
     "data": {
      "text/plain": [
       "array([1, 2, 3, 4, 5, 6])"
      ]
     },
     "execution_count": 9,
     "metadata": {},
     "output_type": "execute_result"
    }
   ],
   "source": [
    "arr = np.array([[1, 2, 3], [4, 5, 6]])\n",
    "\n",
    "arr.reshape(3, 2)  # Reshape into 3x2 matrix\n",
    "arr.flatten()      # Convert multi-dimensional array into 1D"
   ]
  },
  {
   "cell_type": "code",
   "execution_count": 10,
   "metadata": {},
   "outputs": [
    {
     "name": "stdout",
     "output_type": "stream",
     "text": [
      "[30 40 50]\n"
     ]
    }
   ],
   "source": [
    "arr = np.array([10, 20, 30, 40, 50])\n",
    "mask = arr > 25\n",
    "print(arr[mask])  # [30 40 50] (Only elements greater than 25)\n"
   ]
  },
  {
   "cell_type": "code",
   "execution_count": 11,
   "metadata": {},
   "outputs": [
    {
     "name": "stdout",
     "output_type": "stream",
     "text": [
      "[[19 22]\n",
      " [43 50]]\n",
      "[[-2.   1. ]\n",
      " [ 1.5 -0.5]]\n",
      "-2.0000000000000004\n",
      "EigResult(eigenvalues=array([-0.37228132,  5.37228132]), eigenvectors=array([[-0.82456484, -0.41597356],\n",
      "       [ 0.56576746, -0.90937671]]))\n"
     ]
    }
   ],
   "source": [
    "A = np.array([[1, 2], [3, 4]])\n",
    "B = np.array([[5, 6], [7, 8]])\n",
    "\n",
    "print(np.dot(A, B))  # Matrix multiplication\n",
    "print(np.linalg.inv(A))  # Inverse of matrix A\n",
    "print(np.linalg.det(A))  # Determinant of matrix A\n",
    "print(np.linalg.eig(A))  # Eigenvalues & Eigenvectors\n"
   ]
  }
 ],
 "metadata": {
  "kernelspec": {
   "display_name": "Python 3",
   "language": "python",
   "name": "python3"
  },
  "language_info": {
   "codemirror_mode": {
    "name": "ipython",
    "version": 3
   },
   "file_extension": ".py",
   "mimetype": "text/x-python",
   "name": "python",
   "nbconvert_exporter": "python",
   "pygments_lexer": "ipython3",
   "version": "3.9.13"
  }
 },
 "nbformat": 4,
 "nbformat_minor": 2
}
