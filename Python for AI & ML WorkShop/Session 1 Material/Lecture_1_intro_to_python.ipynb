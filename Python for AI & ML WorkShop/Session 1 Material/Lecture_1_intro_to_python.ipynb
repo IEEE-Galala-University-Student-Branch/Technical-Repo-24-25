{
  "cells": [
    {
      "cell_type": "code",
      "execution_count": null,
      "metadata": {
        "id": "vz4j9T0rvlTT"
      },
      "outputs": [],
      "source": [
        "# --- Variables and Data Types ---\n",
        "# Define variables of various types.\n",
        "\n",
        "product_name = 'milk'       # String variable\n",
        "quantity_sold = 10               # Integer variable\n",
        "price_per_unit = 20.0           # Float variable\n",
        "in_stock = True                 # Boolean variable"
      ]
    },
    {
      "cell_type": "code",
      "execution_count": null,
      "metadata": {
        "colab": {
          "base_uri": "https://localhost:8080/"
        },
        "id": "XSVG7ks0Xo4j",
        "outputId": "f4eda2a9-dc0d-4ea7-aebe-d540e3a95405"
      },
      "outputs": [
        {
          "output_type": "stream",
          "name": "stdout",
          "text": [
            "<class 'str'>\n",
            "<class 'int'>\n",
            "<class 'float'>\n",
            "<class 'bool'>\n"
          ]
        }
      ],
      "source": [
        "print(type(product_name))\n",
        "print(type(quantity_sold))\n",
        "print(type(price_per_unit))\n",
        "print(type(in_stock))"
      ]
    },
    {
      "cell_type": "code",
      "execution_count": null,
      "metadata": {
        "colab": {
          "base_uri": "https://localhost:8080/"
        },
        "id": "HrIvTqfs5SeW",
        "outputId": "adb5c65d-9cfc-4ad6-9ca5-50b21329dc7a"
      },
      "outputs": [
        {
          "output_type": "stream",
          "name": "stdout",
          "text": [
            "This is the product: milk\n",
            "Quantity Sold: 10\n",
            "Price per Unit: 20.0\n",
            "In Stock: True\n",
            "\n"
          ]
        }
      ],
      "source": [
        "print(\"This is the product:\",product_name)\n",
        "print(\"Quantity Sold:\", quantity_sold)\n",
        "print(\"Price per Unit:\", price_per_unit)\n",
        "print(\"In Stock:\", in_stock)\n",
        "print()"
      ]
    },
    {
      "cell_type": "code",
      "source": [
        "fruits = [\"Apple\", \"Banana\", \"Cherry\"]\n",
        "print(\"List of Fruits:\", fruits)\n",
        "# Accessing elements\n",
        "print(\"First Fruit:\", fruits[0])\n",
        "# Modifying list elements\n",
        "fruits.append(\"Orange\")  # Add an element\n",
        "print(\"Updated List:\", fruits)\n",
        "\n",
        "person = {\n",
        "    \"name\": \"Alice\",\n",
        "    \"age\": 25,\n",
        "    \"city\": \"Cairo\"\n",
        "}\n",
        "print(\"\\nPerson Dictionary:\", person)\n",
        "# Accessing values\n",
        "print(\"Name:\", person[\"name\"])\n",
        "print(\"Age:\", person.get(\"age\"))\n",
        "# Modifying dictionary\n",
        "person[\"age\"] = 26  # Update age\n",
        "person[\"job\"] = \"Engineer\"  # Add new key-value pair\n",
        "print(\"Updated Dictionary:\", person)"
      ],
      "metadata": {
        "colab": {
          "base_uri": "https://localhost:8080/"
        },
        "id": "D9nMi2GE9_N4",
        "outputId": "1a0fcfa4-0f2c-4aa4-8deb-c493674bc2ca"
      },
      "execution_count": null,
      "outputs": [
        {
          "output_type": "stream",
          "name": "stdout",
          "text": [
            "List of Fruits: ['Apple', 'Banana', 'Cherry']\n",
            "First Fruit: Apple\n",
            "Updated List: ['Apple', 'Banana', 'Cherry', 'Orange']\n",
            "\n",
            "Person Dictionary: {'name': 'Alice', 'age': 25, 'city': 'Cairo'}\n",
            "Name: Alice\n",
            "Age: 25\n",
            "Updated Dictionary: {'name': 'Alice', 'age': 26, 'city': 'Cairo', 'job': 'Engineer'}\n"
          ]
        }
      ]
    },
    {
      "cell_type": "code",
      "execution_count": null,
      "metadata": {
        "colab": {
          "base_uri": "https://localhost:8080/"
        },
        "id": "QBTeCql95qkO",
        "outputId": "cc63ed16-7268-4b6e-a157-d37c0ca56b7a"
      },
      "outputs": [
        {
          "output_type": "stream",
          "name": "stdout",
          "text": [
            "Products List: ['Product A', 'Product B', 'Product C']\n",
            "<class 'list'>\n",
            "First value in the list:  Product B\n",
            "Last value in the list:  Product B\n",
            "Length of the list:  3\n",
            "\n",
            "Prices Dictionary: {'Product A': 20.0, 'Product B': 30.0, 'Product C': 25.0}\n",
            "<class 'dict'>\n",
            "Value associated with 'Product A': 25.0\n",
            "Keys in the dictionary: dict_keys(['Product A', 'Product B', 'Product C'])\n",
            "Values in the dictionary: dict_values([20.0, 30.0, 25.0])\n",
            "Number of items in the dictionary: 3\n",
            "\n"
          ]
        }
      ],
      "source": [
        "# --- Data Structures ---\n",
        "\n",
        "# Lists store an ordered collection of items.\n",
        "products = [\"Product A\", \"Product B\", \"Product C\"]\n",
        "print(\"Products List:\", products)\n",
        "print(type(products))\n",
        "print(\"First value in the list: \",products[1])\n",
        "print(\"Last value in the list: \",products[-2])\n",
        "print(\"Length of the list: \",len(products))\n",
        "print()\n",
        "\n",
        "\n",
        "# Dictionaries store key-value pairs.\n",
        "prices = {\"Product A\": 20.0, \"Product B\": 30.0, \"Product C\": 25.0}\n",
        "print(\"Prices Dictionary:\", prices)\n",
        "print(type(prices))\n",
        "print(\"Value associated with 'Product A':\", prices[\"Product C\"])\n",
        "print(\"Keys in the dictionary:\", prices.keys())\n",
        "print(\"Values in the dictionary:\", prices.values())\n",
        "print(\"Number of items in the dictionary:\", len(prices))\n",
        "print()\n"
      ]
    },
    {
      "cell_type": "code",
      "execution_count": null,
      "metadata": {
        "colab": {
          "base_uri": "https://localhost:8080/"
        },
        "id": "kjhZ1Kh1MNj5",
        "outputId": "7d494320-9e17-414f-99c4-24f37e48aa1f"
      },
      "outputs": [
        {
          "output_type": "stream",
          "name": "stdout",
          "text": [
            "Price List: [20.0, 30.0, 25.0]\n",
            "\n"
          ]
        }
      ],
      "source": [
        "price_list = list(prices.values())\n",
        "print(\"Price List:\", price_list)\n",
        "print()"
      ]
    },
    {
      "cell_type": "code",
      "execution_count": null,
      "metadata": {
        "colab": {
          "base_uri": "https://localhost:8080/"
        },
        "id": "Q5YtkjE7Mdj0",
        "outputId": "b055cb12-5535-4abf-ef47-a41f5bc753f2"
      },
      "outputs": [
        {
          "output_type": "stream",
          "name": "stdout",
          "text": [
            "Product dict: {'a': 1, 'b': 2}\n",
            "\n"
          ]
        }
      ],
      "source": [
        "list1 = [1, 2, 3]\n",
        "list2 = [\"a\",\"b\"]\n",
        "\n",
        "product_list = dict(zip(list2, list1))\n",
        "print(\"Product dict:\", product_list)\n",
        "print()"
      ]
    },
    {
      "cell_type": "code",
      "execution_count": null,
      "metadata": {
        "colab": {
          "base_uri": "https://localhost:8080/"
        },
        "id": "w9IGOEvyg3LQ",
        "outputId": "eee48307-7ddf-4666-9e8a-97ae1f738d97"
      },
      "outputs": [
        {
          "output_type": "stream",
          "name": "stdout",
          "text": [
            "var2: 10\n",
            "<class 'int'>\n",
            "\n"
          ]
        }
      ],
      "source": [
        "var1 = 10\n",
        "var2 = int(var1)\n",
        "print(\"var2:\", var2)\n",
        "print(type(var2))\n",
        "print()"
      ]
    },
    {
      "cell_type": "code",
      "source": [
        "# If statement with multiple conditions\n",
        "score = 85\n",
        "\n",
        "if score >= 90:\n",
        "    grade = \"A\"\n",
        "elif score >= 80:\n",
        "    grade = \"B\"\n",
        "elif score >= 70:\n",
        "    grade = \"C\"\n",
        "elif score >= 60:\n",
        "    grade = \"D\"\n",
        "else:\n",
        "    grade = \"F\"\n",
        "\n",
        "print(f\"Score: {score}, Grade: {grade}\")"
      ],
      "metadata": {
        "colab": {
          "base_uri": "https://localhost:8080/"
        },
        "id": "i9L37RFhAsxE",
        "outputId": "a74ecf30-31da-463a-b256-c303e98b5bb6"
      },
      "execution_count": null,
      "outputs": [
        {
          "output_type": "stream",
          "name": "stdout",
          "text": [
            "Score: 85, Grade: B\n"
          ]
        }
      ]
    },
    {
      "cell_type": "code",
      "source": [
        "fruits = [\"Apple\", \"Banana\", \"Cherry\", \"Orange\"]\n",
        "for fruit in fruits:\n",
        "    print(\"Fruit:\", fruit)\n",
        "\n",
        "for num in range(1, 6):  # Loops from 1 to 5\n",
        "    print(\"Number:\", num)\n"
      ],
      "metadata": {
        "colab": {
          "base_uri": "https://localhost:8080/"
        },
        "id": "Hs3XdzizBOwG",
        "outputId": "69b29329-12e7-4489-f60e-c802c77414c2"
      },
      "execution_count": null,
      "outputs": [
        {
          "output_type": "stream",
          "name": "stdout",
          "text": [
            "Fruit: Apple\n",
            "Fruit: Banana\n",
            "Fruit: Cherry\n",
            "Fruit: Orange\n",
            "Number: 1\n",
            "Number: 2\n",
            "Number: 3\n",
            "Number: 4\n",
            "Number: 5\n"
          ]
        }
      ]
    },
    {
      "cell_type": "code",
      "source": [
        "count = 5\n",
        "while count > 0:\n",
        "    print(\"Countdown:\", count)\n",
        "    count -= 1\n",
        "\n",
        "password = \"\"\n",
        "while password != \"1234\":\n",
        "    password = input(\"Enter password: \")\n",
        "print(\"Access Granted!\")\n"
      ],
      "metadata": {
        "colab": {
          "base_uri": "https://localhost:8080/"
        },
        "id": "_tWLgYNTBgUH",
        "outputId": "e4a35254-1d0a-4ac1-9e89-8758ad3b03bc"
      },
      "execution_count": null,
      "outputs": [
        {
          "output_type": "stream",
          "name": "stdout",
          "text": [
            "Countdown: 5\n",
            "Countdown: 4\n",
            "Countdown: 3\n",
            "Countdown: 2\n",
            "Countdown: 1\n",
            "Enter password: 1234\n",
            "Access Granted!\n"
          ]
        }
      ]
    },
    {
      "cell_type": "code",
      "execution_count": null,
      "metadata": {
        "colab": {
          "base_uri": "https://localhost:8080/"
        },
        "id": "3Ly0YyXJARyx",
        "outputId": "cc7db013-03e3-4d0a-c24d-68df051a9831"
      },
      "outputs": [
        {
          "output_type": "stream",
          "name": "stdout",
          "text": [
            "nothing is found\n",
            "nothing is found\n",
            "C is Found C\n",
            "\n"
          ]
        }
      ],
      "source": [
        "# --- Loops and Conditionals ---\n",
        "for i in [\"A\", \"z\",\"C\"]:\n",
        "  if i == \"B\":\n",
        "    print(i)\n",
        "  elif i == \"C\":\n",
        "    print(\"C is Found\", i)\n",
        "  elif i == \"D\":\n",
        "    print(\"D is Found\", i)\n",
        "  else:\n",
        "    print(\"nothing is found\")\n",
        "print()"
      ]
    },
    {
      "cell_type": "code",
      "execution_count": null,
      "metadata": {
        "colab": {
          "base_uri": "https://localhost:8080/"
        },
        "id": "pFHF2XzXk0Og",
        "outputId": "9ad54558-d7bd-4c0f-88d8-891524ba1612"
      },
      "outputs": [
        {
          "output_type": "stream",
          "name": "stdout",
          "text": [
            "Quantity Sold: 0\n",
            "Quantity Sold: 1\n",
            "Quantity Sold: 2\n",
            "Quantity Sold: 3\n",
            "Quantity Sold: 4\n",
            "Quantity Sold: 5\n",
            "Quantity Sold: 6\n",
            "Quantity Sold: 7\n",
            "Quantity Sold: 8\n",
            "Quantity Sold: 9\n",
            "Quantity Sold: 10\n",
            "\n"
          ]
        }
      ],
      "source": [
        "quantity_sold = 0\n",
        "while quantity_sold <= 10:\n",
        "    print(\"Quantity Sold:\", quantity_sold)\n",
        "    quantity_sold += 1\n",
        "print()\n"
      ]
    },
    {
      "cell_type": "code",
      "execution_count": null,
      "metadata": {
        "colab": {
          "base_uri": "https://localhost:8080/"
        },
        "id": "hMXRzDhDAUuL",
        "outputId": "a4254ccd-aabc-456b-9572-30f9e2792bd8"
      },
      "outputs": [
        {
          "output_type": "stream",
          "name": "stdout",
          "text": [
            "Products exceeding the threshold revenue (assuming 10 units sold):\n",
            "estimated revenue = 200.0\n",
            "estimated revenue = 300.0\n",
            "estimated revenue = 250.0\n",
            "\n"
          ]
        }
      ],
      "source": [
        "products = [\"Product A\", \"Product B\", \"Product C\"]\n",
        "prices = {\"Product A\": 20.0, \"Product B\": 30.0, \"Product C\": 25.0}\n",
        "\n",
        "threshold_revenue = 150\n",
        "print(\"Products exceeding the threshold revenue (assuming 10 units sold):\")\n",
        "\n",
        "for product in products:\n",
        "    estimated_revenue = prices[product] * 10\n",
        "    if estimated_revenue > threshold_revenue:\n",
        "        print(f\"estimated revenue = {estimated_revenue}\")\n",
        "print()\n"
      ]
    },
    {
      "cell_type": "code",
      "execution_count": null,
      "metadata": {
        "colab": {
          "base_uri": "https://localhost:8080/"
        },
        "id": "q-6PBDl4P-OA",
        "outputId": "e1550070-9769-42c8-d61a-94810b1f98e9"
      },
      "outputs": [
        {
          "output_type": "stream",
          "name": "stdout",
          "text": [
            "Quantity Sold: 1\n",
            "Quantity Sold: 2\n",
            "Quantity Sold: 3\n",
            "Quantity Sold: 4\n",
            "Quantity Sold: 5\n",
            "Quantity Sold: 6\n",
            "Quantity Sold: 7\n",
            "Quantity Sold: 8\n",
            "Quantity Sold: 9\n",
            "Quantity Sold: 10\n",
            "Quantity Sold: 11\n",
            "Quantity Sold: 12\n",
            "Quantity Sold: 13\n",
            "Quantity Sold: 14\n",
            "Quantity Sold: 15\n",
            "Quantity Sold: 16\n",
            "Quantity Sold: 17\n",
            "Quantity Sold: 18\n",
            "Quantity Sold: 19\n",
            "Quantity Sold: 20\n"
          ]
        }
      ],
      "source": [
        "quantity_sold = 0\n",
        "while quantity_sold < 20:\n",
        "    quantity_sold += 1\n",
        "    print(f\"Quantity Sold: {quantity_sold}\")"
      ]
    },
    {
      "cell_type": "code",
      "execution_count": null,
      "metadata": {
        "id": "h4novaCzAl7W"
      },
      "outputs": [],
      "source": [
        "# --- Functions ---\n",
        "def calculate_discount(revenue, discount_rate=0.1):\n",
        "  discount = revenue * (1 - discount_rate)\n",
        "  return discount\n",
        "\n",
        "def greet():\n",
        "    print(\"Hello, welcome to AI programming!\")\n",
        "\n",
        "def add(a, b):\n",
        "    return a + b\n",
        "\n",
        "def rectangle_area_perimeter(length, width):\n",
        "    area = length * width\n",
        "    perimeter = 2 * (length + width)\n",
        "    return area, perimeter\n",
        "\n"
      ]
    },
    {
      "cell_type": "code",
      "source": [
        "greet()  # Calling the function\n",
        "\n",
        "result = add(5, 3)\n",
        "print(\"Sum:\", result)\n",
        "\n",
        "a, p = rectangle_area_perimeter(5, 3)\n",
        "print(\"Area:\", a, \"Perimeter:\", p)\n",
        "\n",
        "original_revenue = 200.0\n",
        "discounted_revenue = calculate_discount(original_revenue, 0.2)\n",
        "print(\"Original Revenue:\", original_revenue)\n",
        "print(\"Discounted Revenue (10% off):\", discounted_revenue)\n"
      ],
      "metadata": {
        "colab": {
          "base_uri": "https://localhost:8080/"
        },
        "id": "uuOJBDm9CTIa",
        "outputId": "9691742a-4717-44f4-ceb9-96634626148c"
      },
      "execution_count": null,
      "outputs": [
        {
          "output_type": "stream",
          "name": "stdout",
          "text": [
            "Hello, welcome to AI programming!\n",
            "Sum: 8\n",
            "Area: 15 Perimeter: 16\n",
            "Original Revenue: 200.0\n",
            "Discounted Revenue (10% off): 160.0\n"
          ]
        }
      ]
    }
  ],
  "metadata": {
    "colab": {
      "provenance": []
    },
    "kernelspec": {
      "display_name": "Python 3",
      "name": "python3"
    },
    "language_info": {
      "name": "python"
    }
  },
  "nbformat": 4,
  "nbformat_minor": 0
}